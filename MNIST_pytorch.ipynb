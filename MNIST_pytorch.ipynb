{
  "nbformat": 4,
  "nbformat_minor": 0,
  "metadata": {
    "colab": {
      "name": "MNIST_pytorch.ipynb",
      "version": "0.3.2",
      "provenance": [],
      "collapsed_sections": [],
      "include_colab_link": true
    },
    "kernelspec": {
      "name": "python3",
      "display_name": "Python 3"
    },
    "accelerator": "GPU"
  },
  "cells": [
    {
      "cell_type": "markdown",
      "metadata": {
        "id": "view-in-github",
        "colab_type": "text"
      },
      "source": [
        "<a href=\"https://colab.research.google.com/github/feicccccccc/colab_sandbox/blob/master/MNIST_pytorch.ipynb\" target=\"_parent\"><img src=\"https://colab.research.google.com/assets/colab-badge.svg\" alt=\"Open In Colab\"/></a>"
      ]
    },
    {
      "cell_type": "markdown",
      "metadata": {
        "id": "UHpf1ItFCOhC",
        "colab_type": "text"
      },
      "source": [
        "# A test  to use colab to perform MNIST training using Pytorch"
      ]
    },
    {
      "cell_type": "markdown",
      "metadata": {
        "id": "3voLr3S-Cd8K",
        "colab_type": "text"
      },
      "source": [
        "## First step: Import library including\n",
        "\n",
        "\n",
        "1.   pytorch (deeplearning framework)\n",
        "2.   torch vision (dataset)\n",
        "3.   matplotlib (to plot graph)\n",
        "4.   prepare CUDA for GPU training\n",
        "\n",
        "\n"
      ]
    },
    {
      "cell_type": "code",
      "metadata": {
        "id": "ew_MAsWOh8qw",
        "colab_type": "code",
        "outputId": "23df3919-7fb2-4773-dc84-88ecb5f152e9",
        "colab": {
          "base_uri": "https://localhost:8080/",
          "height": 85
        }
      },
      "source": [
        "import matplotlib.pyplot as plt\n",
        "import torch\n",
        "import torch.nn as nn\n",
        "import torchvision\n",
        "import torchvision.transforms as transforms\n",
        "\n",
        "%matplotlib inline \n",
        "\n",
        "print(\"GPU availability : \", torch.cuda.is_available())\n",
        "print(\"Number of GPU support : \",torch.cuda.device_count())\n",
        "\n",
        "# The GPU deivce instance\n",
        "device = torch.device(\"cuda:0\" if torch.cuda.is_available() else \"cpu\")\n",
        "\n",
        "print(device)\n",
        "\n",
        "print(\"GPU name : \",torch.cuda.get_device_name(device))"
      ],
      "execution_count": 2,
      "outputs": [
        {
          "output_type": "stream",
          "text": [
            "GPU availability :  True\n",
            "Number of GPU support :  1\n",
            "cuda:0\n",
            "GPU name :  Tesla T4\n"
          ],
          "name": "stdout"
        }
      ]
    },
    {
      "cell_type": "markdown",
      "metadata": {
        "id": "E4zKH7HRC0Db",
        "colab_type": "text"
      },
      "source": [
        "### Get the MNIST data set from torch vision"
      ]
    },
    {
      "cell_type": "code",
      "metadata": {
        "id": "u_7Iz0usibE6",
        "colab_type": "code",
        "outputId": "3409b269-6da6-4b59-9a2c-7829b2b75273",
        "colab": {
          "base_uri": "https://localhost:8080/",
          "height": 275
        }
      },
      "source": [
        "train_dataset = torchvision.datasets.MNIST(root='./data',train=True, transform=transforms.ToTensor(), download = True)\n",
        "\n",
        "test_dataset = torchvision.datasets.MNIST(root='./data',train=False, transform=transforms.ToTensor(), download = True)\n",
        "\n",
        "\n",
        "train_loader = torch.utils.data.DataLoader(dataset=train_dataset, batch_size=32, shuffle=True)\n",
        "\n",
        "test_loader = torch.utils.data.DataLoader(dataset=test_dataset,  batch_size=32, shuffle=False)"
      ],
      "execution_count": 3,
      "outputs": [
        {
          "output_type": "stream",
          "text": [
            "  0%|          | 0/9912422 [00:00<?, ?it/s]"
          ],
          "name": "stderr"
        },
        {
          "output_type": "stream",
          "text": [
            "Downloading http://yann.lecun.com/exdb/mnist/train-images-idx3-ubyte.gz to ./data/MNIST/raw/train-images-idx3-ubyte.gz\n"
          ],
          "name": "stdout"
        },
        {
          "output_type": "stream",
          "text": [
            "9920512it [00:00, 20043740.70it/s]                            \n"
          ],
          "name": "stderr"
        },
        {
          "output_type": "stream",
          "text": [
            "Extracting ./data/MNIST/raw/train-images-idx3-ubyte.gz\n"
          ],
          "name": "stdout"
        },
        {
          "output_type": "stream",
          "text": [
            "32768it [00:00, 319488.76it/s]                           \n",
            "0it [00:00, ?it/s]"
          ],
          "name": "stderr"
        },
        {
          "output_type": "stream",
          "text": [
            "Downloading http://yann.lecun.com/exdb/mnist/train-labels-idx1-ubyte.gz to ./data/MNIST/raw/train-labels-idx1-ubyte.gz\n",
            "Extracting ./data/MNIST/raw/train-labels-idx1-ubyte.gz\n",
            "Downloading http://yann.lecun.com/exdb/mnist/t10k-images-idx3-ubyte.gz to ./data/MNIST/raw/t10k-images-idx3-ubyte.gz\n"
          ],
          "name": "stdout"
        },
        {
          "output_type": "stream",
          "text": [
            "1654784it [00:00, 5241411.90it/s]                           \n",
            "8192it [00:00, 130802.06it/s]\n"
          ],
          "name": "stderr"
        },
        {
          "output_type": "stream",
          "text": [
            "Extracting ./data/MNIST/raw/t10k-images-idx3-ubyte.gz\n",
            "Downloading http://yann.lecun.com/exdb/mnist/t10k-labels-idx1-ubyte.gz to ./data/MNIST/raw/t10k-labels-idx1-ubyte.gz\n",
            "Extracting ./data/MNIST/raw/t10k-labels-idx1-ubyte.gz\n",
            "Processing...\n",
            "Done!\n"
          ],
          "name": "stdout"
        }
      ]
    },
    {
      "cell_type": "markdown",
      "metadata": {
        "id": "b0goyhZiPob_",
        "colab_type": "text"
      },
      "source": [
        "###The shape of the data and the image"
      ]
    },
    {
      "cell_type": "code",
      "metadata": {
        "id": "QY9AqGywacU1",
        "colab_type": "code",
        "outputId": "753fb525-3d16-442e-a8a2-974c015327e0",
        "colab": {
          "base_uri": "https://localhost:8080/",
          "height": 289
        }
      },
      "source": [
        "testing_iter = enumerate(test_loader)\n",
        "\n",
        "print(train_loader.batch_sampler.sampler.data_source,\"\\n\")\n",
        "\n",
        "print(\"The shape of training data : \")\n",
        "print(\"Number of smaple , width , height (1 channel image)\")\n",
        "print(train_dataset.data.shape,\"\\n\")\n",
        "\n",
        "batch_idx, (training_sample , sample_labels) = next(testing_iter)\n",
        "\n",
        "print(\"training_batch index : \",batch_idx)\n",
        "print(\"training_batch shape : \",training_sample.shape)\n",
        "\n",
        "print(\"lable_batch shape : \",sample_labels.shape)\n",
        "\n",
        "print()\n",
        "\n",
        "batch_idx, (training_sample , sample_labels) = next(testing_iter)\n",
        "\n",
        "print(\"training_batch index : \",batch_idx)\n",
        "print(\"training_batch shape : \",training_sample.shape)\n",
        "\n",
        "print(\"lable_bathchshape : \",sample_labels.shape)"
      ],
      "execution_count": 4,
      "outputs": [
        {
          "output_type": "stream",
          "text": [
            "Dataset MNIST\n",
            "    Number of datapoints: 60000\n",
            "    Root location: ./data\n",
            "    Split: Train \n",
            "\n",
            "The shape of training data : \n",
            "Number of smaple , width , height (1 channel image)\n",
            "torch.Size([60000, 28, 28]) \n",
            "\n",
            "training_batch index :  0\n",
            "training_batch shape :  torch.Size([32, 1, 28, 28])\n",
            "lable_batch shape :  torch.Size([32])\n",
            "\n",
            "training_batch index :  1\n",
            "training_batch shape :  torch.Size([32, 1, 28, 28])\n",
            "lable_bathchshape :  torch.Size([32])\n"
          ],
          "name": "stdout"
        }
      ]
    },
    {
      "cell_type": "markdown",
      "metadata": {
        "id": "hDEsA5wDC8-0",
        "colab_type": "text"
      },
      "source": [
        "### Show part of the data set in term of pixel map and there output y"
      ]
    },
    {
      "cell_type": "code",
      "metadata": {
        "id": "LWmA1MKPqVnA",
        "colab_type": "code",
        "outputId": "fb8cc6fa-7490-4af2-8ae1-6ebbc246673d",
        "colab": {
          "base_uri": "https://localhost:8080/",
          "height": 281
        }
      },
      "source": [
        "images=[]\n",
        "\n",
        "for i in range(0,5):\n",
        "  images.append(training_sample[i,0,:])\n",
        "\n",
        "plt.figure(figsize=(20,10))\n",
        "columns = 5\n",
        "for i, image in enumerate(images):\n",
        "    plt.subplot(len(images) / columns + 1, columns, i + 1)\n",
        "    plt.imshow(image)\n",
        "    \n",
        "print(\"Their corresponding lables: \", sample_labels[0:5])"
      ],
      "execution_count": 5,
      "outputs": [
        {
          "output_type": "stream",
          "text": [
            "Their corresponding lables:  tensor([3, 4, 7, 2, 7])\n"
          ],
          "name": "stdout"
        },
        {
          "output_type": "display_data",
          "data": {
            "image/png": "[encoded data removed]",
            "text/plain": [
              "<Figure size 1440x720 with 5 Axes>"
            ]
          },
          "metadata": {
            "tags": []
          }
        }
      ]
    },
    {
      "cell_type": "markdown",
      "metadata": {
        "id": "Er43rsG4B07p",
        "colab_type": "text"
      },
      "source": [
        "### The training data is already normailised\n",
        "### The follwing tensor is the 11 colume of the number 7 picutre."
      ]
    },
    {
      "cell_type": "code",
      "metadata": {
        "id": "gNV78vDyB_cL",
        "colab_type": "code",
        "outputId": "63278a87-0034-44b2-c6f6-dfd8ff2fd4a7",
        "colab": {
          "base_uri": "https://localhost:8080/",
          "height": 85
        }
      },
      "source": [
        "print(\"Original data at x some pixel (col:11 of 3) = \", training_sample[0,0,:,11])"
      ],
      "execution_count": 6,
      "outputs": [
        {
          "output_type": "stream",
          "text": [
            "Original data at x some pixel (col:11 of 3) =  tensor([0.0000, 0.0000, 0.0000, 0.0000, 0.0000, 0.9961, 0.9922, 0.6941, 0.0000,\n",
            "        0.0000, 0.0000, 0.2235, 0.9686, 0.9922, 0.9922, 0.8039, 0.0000, 0.0000,\n",
            "        0.0000, 0.0000, 0.0000, 0.0000, 0.1608, 0.9843, 0.9922, 0.0000, 0.0000,\n",
            "        0.0000])\n"
          ],
          "name": "stdout"
        }
      ]
    },
    {
      "cell_type": "markdown",
      "metadata": {
        "id": "j0AMYG5bGQrJ",
        "colab_type": "text"
      },
      "source": [
        "### Build the neural network"
      ]
    },
    {
      "cell_type": "code",
      "metadata": {
        "id": "ShXgbrqvGZLb",
        "colab_type": "code",
        "colab": {}
      },
      "source": [
        "import torch.nn.functional as F\n",
        "import torch.optim as optim"
      ],
      "execution_count": 0,
      "outputs": []
    },
    {
      "cell_type": "code",
      "metadata": {
        "id": "YFNlqXFcGhFL",
        "colab_type": "code",
        "colab": {}
      },
      "source": [
        "class Net(nn.Module):\n",
        "    def __init__(self): # with parameters to train\n",
        "      # Use nn class , to handle wieght and bias internally\n",
        "        super(Net, self).__init__()\n",
        "        self.conv1 = nn.Conv2d(1, 10, kernel_size=5)\n",
        "        # in channel : 1, out channel : 10 , kernal : 5x5 square kernal\n",
        "        # 28 in , 28 - 5 + 1 = 24 out\n",
        "        # max pool = 12\n",
        "        self.conv2 = nn.Conv2d(10, 20, kernel_size=5)\n",
        "        # in channel : 10, out channel : 20 , kernal : 5x5 square kernal\n",
        "        # 12 in , 12 - 5 + 1 = 8 out\n",
        "        # max pool = 4\n",
        "        self.conv2_drop = nn.Dropout2d()\n",
        "        # 4 * 4 * 20 = 6000\n",
        "        # dropout\n",
        "        self.fc1 = nn.Linear(320, 50)\n",
        "        \n",
        "        self.fc2 = nn.Linear(50, 10)\n",
        "\n",
        "    def forward(self, x): # no parameter to train\n",
        "      # Use functional , to avoid internal state\n",
        "        #print(x.shape)\n",
        "        x = F.relu(F.max_pool2d(self.conv1(x), 2))\n",
        "        #print(x.shape)\n",
        "        x = F.relu(F.max_pool2d(self.conv2_drop(self.conv2(x)), 2))\n",
        "        #print(x.shape)\n",
        "        # flatten\n",
        "        x = x.view(-1, 320)\n",
        "        #print(x.shape)\n",
        "        \n",
        "        x = F.relu(self.fc1(x))\n",
        "        #print(x.shape)\n",
        "        x = F.dropout(x, training=self.training)\n",
        "        #print(x.shape)\n",
        "        x = self.fc2(x)\n",
        "        #print(x.shape)\n",
        "        return F.log_softmax(x,dim=-1)"
      ],
      "execution_count": 0,
      "outputs": []
    },
    {
      "cell_type": "code",
      "metadata": {
        "id": "uPs0Z_I-T2s8",
        "colab_type": "code",
        "outputId": "71d63090-b80b-483f-e913-c5040f031e06",
        "colab": {
          "base_uri": "https://localhost:8080/",
          "height": 136
        }
      },
      "source": [
        "net = Net()\n",
        "print(net)"
      ],
      "execution_count": 9,
      "outputs": [
        {
          "output_type": "stream",
          "text": [
            "Net(\n",
            "  (conv1): Conv2d(1, 10, kernel_size=(5, 5), stride=(1, 1))\n",
            "  (conv2): Conv2d(10, 20, kernel_size=(5, 5), stride=(1, 1))\n",
            "  (conv2_drop): Dropout2d(p=0.5)\n",
            "  (fc1): Linear(in_features=320, out_features=50, bias=True)\n",
            "  (fc2): Linear(in_features=50, out_features=10, bias=True)\n",
            ")\n"
          ],
          "name": "stdout"
        }
      ]
    },
    {
      "cell_type": "markdown",
      "metadata": {
        "id": "61r_KpSWGu41",
        "colab_type": "text"
      },
      "source": [
        "### Parameters inside the NN"
      ]
    },
    {
      "cell_type": "code",
      "metadata": {
        "id": "rM9lopq3IJyt",
        "colab_type": "code",
        "outputId": "9b6f8d07-75c1-43b9-d5f2-75321c70ac76",
        "colab": {
          "base_uri": "https://localhost:8080/",
          "height": 170
        }
      },
      "source": [
        "params = list(net.parameters())\n",
        "print(\"number of layer\",len(params)/2)\n",
        "\n",
        "for i in range(0,int(len(params)/2)):\n",
        "    print(\"Layer \",i,\" parametrers shape :\",params[i].size())\n",
        "    print(\"Layer \",i,\" bias :\",params[i+1].size())\n"
      ],
      "execution_count": 10,
      "outputs": [
        {
          "output_type": "stream",
          "text": [
            "number of layer 4.0\n",
            "Layer  0  parametrers shape : torch.Size([10, 1, 5, 5])\n",
            "Layer  0  bias : torch.Size([10])\n",
            "Layer  1  parametrers shape : torch.Size([10])\n",
            "Layer  1  bias : torch.Size([20, 10, 5, 5])\n",
            "Layer  2  parametrers shape : torch.Size([20, 10, 5, 5])\n",
            "Layer  2  bias : torch.Size([20])\n",
            "Layer  3  parametrers shape : torch.Size([20])\n",
            "Layer  3  bias : torch.Size([50, 320])\n"
          ],
          "name": "stdout"
        }
      ]
    },
    {
      "cell_type": "markdown",
      "metadata": {
        "id": "pyBLhAZWCkU3",
        "colab_type": "text"
      },
      "source": [
        "## Training Stage"
      ]
    },
    {
      "cell_type": "markdown",
      "metadata": {
        "id": "90FqiQMjUTir",
        "colab_type": "text"
      },
      "source": [
        "### hyper paramter for the training"
      ]
    },
    {
      "cell_type": "code",
      "metadata": {
        "id": "uBGNS84nUXOB",
        "colab_type": "code",
        "colab": {}
      },
      "source": [
        "learning_rate = 0.0001"
      ],
      "execution_count": 0,
      "outputs": []
    },
    {
      "cell_type": "markdown",
      "metadata": {
        "id": "4PMeeQqiJkKD",
        "colab_type": "text"
      },
      "source": [
        "### Move the nn model to CUDA and constrcut the optimiser"
      ]
    },
    {
      "cell_type": "code",
      "metadata": {
        "id": "jHQ0g1MpDQi1",
        "colab_type": "code",
        "outputId": "6e0bc3f2-c0b9-4329-baff-0dc95b3ecdd0",
        "colab": {
          "base_uri": "https://localhost:8080/",
          "height": 136
        }
      },
      "source": [
        "net.to(device)"
      ],
      "execution_count": 12,
      "outputs": [
        {
          "output_type": "execute_result",
          "data": {
            "text/plain": [
              "Net(\n",
              "  (conv1): Conv2d(1, 10, kernel_size=(5, 5), stride=(1, 1))\n",
              "  (conv2): Conv2d(10, 20, kernel_size=(5, 5), stride=(1, 1))\n",
              "  (conv2_drop): Dropout2d(p=0.5)\n",
              "  (fc1): Linear(in_features=320, out_features=50, bias=True)\n",
              "  (fc2): Linear(in_features=50, out_features=10, bias=True)\n",
              ")"
            ]
          },
          "metadata": {
            "tags": []
          },
          "execution_count": 12
        }
      ]
    },
    {
      "cell_type": "code",
      "metadata": {
        "id": "lw7b_ZM2Eq9w",
        "colab_type": "code",
        "colab": {}
      },
      "source": [
        "optimizer = optim.Adam(net.parameters(), lr=learning_rate)"
      ],
      "execution_count": 0,
      "outputs": []
    },
    {
      "cell_type": "markdown",
      "metadata": {
        "id": "v65IobCrSUD1",
        "colab_type": "text"
      },
      "source": [
        "### A testing to show the training procedure"
      ]
    },
    {
      "cell_type": "markdown",
      "metadata": {
        "id": "SMMskKT4Sdkn",
        "colab_type": "text"
      },
      "source": [
        "### The features (X) and Labels (Y)"
      ]
    },
    {
      "cell_type": "code",
      "metadata": {
        "id": "ujk6BaRySbCd",
        "colab_type": "code",
        "outputId": "d4665868-7483-4790-d4ce-32707145ebc8",
        "colab": {
          "base_uri": "https://localhost:8080/",
          "height": 281
        }
      },
      "source": [
        "training_iter = enumerate(train_loader)\n",
        "\n",
        "batch_idx, (training_sample , sample_labels) = next(testing_iter)\n",
        "\n",
        "images=[]\n",
        "\n",
        "for i in range(0,5):\n",
        "  images.append(training_sample[i,0,:])\n",
        "\n",
        "plt.figure(figsize=(20,10))\n",
        "columns = 5\n",
        "for i, image in enumerate(images):\n",
        "    plt.subplot(len(images) / columns + 1, columns, i + 1)\n",
        "    plt.imshow(image)\n",
        "    \n",
        "print(\"Their corresponding lables: \", sample_labels[0:5])"
      ],
      "execution_count": 14,
      "outputs": [
        {
          "output_type": "stream",
          "text": [
            "Their corresponding lables:  tensor([7, 4, 6, 4, 3])\n"
          ],
          "name": "stdout"
        },
        {
          "output_type": "display_data",
          "data": {
            "image/png": "[encoded data removed]",
            "text/plain": [
              "<Figure size 1440x720 with 5 Axes>"
            ]
          },
          "metadata": {
            "tags": []
          }
        }
      ]
    },
    {
      "cell_type": "markdown",
      "metadata": {
        "id": "d1Y8Cr8iTazV",
        "colab_type": "text"
      },
      "source": [
        "### Create testing optimzer\n",
        "The object will optmize the paramter base on different algo.\n",
        "\n",
        "for the case here, we are using Adam optimization (gradient decent using mometum and weight decay)"
      ]
    },
    {
      "cell_type": "code",
      "metadata": {
        "id": "rDVeXNLhTYX5",
        "colab_type": "code",
        "colab": {}
      },
      "source": [
        "test_optimizer = optim.Adam(net.parameters(), lr=learning_rate)"
      ],
      "execution_count": 0,
      "outputs": []
    },
    {
      "cell_type": "markdown",
      "metadata": {
        "id": "khWD84sDd8s_",
        "colab_type": "text"
      },
      "source": [
        "### Move the label to GPU"
      ]
    },
    {
      "cell_type": "code",
      "metadata": {
        "id": "IMCPHu4sfofJ",
        "colab_type": "code",
        "colab": {}
      },
      "source": [
        "training_sample_gpu = training_sample.to(device)\n",
        "sample_labels_gpu = sample_labels.to(device)"
      ],
      "execution_count": 0,
      "outputs": []
    },
    {
      "cell_type": "markdown",
      "metadata": {
        "id": "j1af69b-jMMU",
        "colab_type": "text"
      },
      "source": [
        "### Zero out the stored grad"
      ]
    },
    {
      "cell_type": "code",
      "metadata": {
        "id": "F1kxBuFhkqRs",
        "colab_type": "code",
        "colab": {}
      },
      "source": [
        "test_optimizer.zero_grad()"
      ],
      "execution_count": 0,
      "outputs": []
    },
    {
      "cell_type": "markdown",
      "metadata": {
        "id": "EQ_dzuH7k32k",
        "colab_type": "text"
      },
      "source": [
        "### Forward Pass"
      ]
    },
    {
      "cell_type": "code",
      "metadata": {
        "id": "cm4ltZJ9k6lf",
        "colab_type": "code",
        "outputId": "ac0e3d7b-0214-46e2-a1dc-5410e8643eab",
        "colab": {
          "base_uri": "https://localhost:8080/",
          "height": 68
        }
      },
      "source": [
        "test_output = net.forward(training_sample_gpu)\n",
        "print(test_output.shape)\n",
        "print(test_output[0])"
      ],
      "execution_count": 18,
      "outputs": [
        {
          "output_type": "stream",
          "text": [
            "torch.Size([32, 10])\n",
            "tensor([-2.4278, -2.4037, -2.1369, -2.2471, -2.2893, -2.2697, -2.3835, -2.2134,\n",
            "        -2.4313, -2.2682], device='cuda:0', grad_fn=<SelectBackward>)\n"
          ],
          "name": "stdout"
        }
      ]
    },
    {
      "cell_type": "markdown",
      "metadata": {
        "id": "4IxP63ydmmpc",
        "colab_type": "text"
      },
      "source": [
        "### Compute the loss\n",
        "**notice that the label is not in one-hot vector form**"
      ]
    },
    {
      "cell_type": "code",
      "metadata": {
        "id": "dkYqZONLmsPj",
        "colab_type": "code",
        "outputId": "63e2cca9-6d0b-43c2-d99b-f3f4fb712762",
        "colab": {
          "base_uri": "https://localhost:8080/",
          "height": 34
        }
      },
      "source": [
        "num_of_class = test_output.shape[1]\n",
        "\n",
        "#print(test_output.shape)\n",
        "#print(sample_labels_gpu.shape)\n",
        "\n",
        "#print(test_output[0].view(1,num_of_class).shape)\n",
        "#print(sample_labels_gpu[0].view(1).shape)\n",
        "\n",
        "#print(test_output[0].view(1,num_of_class))\n",
        "#print(sample_labels_gpu[0].view(1))\n",
        "\n",
        "test_loss = F.cross_entropy(test_output,sample_labels_gpu)\n",
        "# the dimension is modified to satisfy batch requirement\n",
        "print(\"Loss of the first sample : \", test_loss)"
      ],
      "execution_count": 19,
      "outputs": [
        {
          "output_type": "stream",
          "text": [
            "Loss of the first sample :  tensor(2.2830, device='cuda:0', grad_fn=<NllLossBackward>)\n"
          ],
          "name": "stdout"
        }
      ]
    },
    {
      "cell_type": "markdown",
      "metadata": {
        "id": "j-l6SD-R7c9c",
        "colab_type": "text"
      },
      "source": [
        "###We can verify the cross entropyloss by the following code:"
      ]
    },
    {
      "cell_type": "code",
      "metadata": {
        "id": "AMQY_SOB7mUv",
        "colab_type": "code",
        "outputId": "07df52bc-5dcd-43b4-f5cf-a6913d91e487",
        "colab": {
          "base_uri": "https://localhost:8080/",
          "height": 51
        }
      },
      "source": [
        "import numpy as np\n",
        "foo_1 = torch.Tensor([[0.5,0.01,0.1,0.01,0.01,0.01,0.01,0.01,0.01,0.01]])\n",
        "# This is not the probability , more like a score of some sort\n",
        "\n",
        "foo_2 = torch.Tensor([3]).long()\n",
        "# output label\n",
        "\n",
        "sm = nn.Softmax(dim=1)\n",
        "foo_3 = sm(foo_1)\n",
        "# softmax operation\n",
        "\n",
        "print(\"pytorch function cross entropy loss : \",F.cross_entropy(foo_1,foo_2))\n",
        "\n",
        "print(\"Cross entropy loss : \", -np.log(foo_3[0][foo_2[0]]))"
      ],
      "execution_count": 20,
      "outputs": [
        {
          "output_type": "stream",
          "text": [
            "pytorch function cross entropy loss :  tensor(2.3727)\n",
            "Cross entropy loss :  tensor(2.3727)\n"
          ],
          "name": "stdout"
        }
      ]
    },
    {
      "cell_type": "markdown",
      "metadata": {
        "id": "6mHDgMP5P-_d",
        "colab_type": "text"
      },
      "source": [
        "### back prop"
      ]
    },
    {
      "cell_type": "code",
      "metadata": {
        "id": "iM0R--8TQBEe",
        "colab_type": "code",
        "outputId": "54f97746-b6fe-4086-8b82-b9bfd132ea2b",
        "colab": {
          "base_uri": "https://localhost:8080/",
          "height": 68
        }
      },
      "source": [
        "print(\"Before back prop : \", params[1].grad)\n",
        "\n",
        "test_loss.backward()\n",
        "\n",
        "print(\"After back prop : \", params[1].grad)"
      ],
      "execution_count": 21,
      "outputs": [
        {
          "output_type": "stream",
          "text": [
            "Before back prop :  None\n",
            "After back prop :  tensor([-0.0031,  0.0016, -0.0043,  0.0075,  0.0013,  0.0106,  0.0045, -0.0020,\n",
            "        -0.0012,  0.0062], device='cuda:0')\n"
          ],
          "name": "stdout"
        }
      ]
    },
    {
      "cell_type": "markdown",
      "metadata": {
        "id": "Y8aXMkNIRI9P",
        "colab_type": "text"
      },
      "source": [
        "### Update the paramter base on different optimization method"
      ]
    },
    {
      "cell_type": "code",
      "metadata": {
        "id": "nsuV-SxKRNKk",
        "colab_type": "code",
        "outputId": "b48fc7de-90ec-4e5b-8dc6-12fa09905d7f",
        "colab": {
          "base_uri": "https://localhost:8080/",
          "height": 119
        }
      },
      "source": [
        "print(\"Before optmizating the paramteres : \",params[1])\n",
        "\n",
        "test_optimizer.step()\n",
        "\n",
        "print(\"After optmizating the paramteres : \",params[1])"
      ],
      "execution_count": 22,
      "outputs": [
        {
          "output_type": "stream",
          "text": [
            "Before optmizating the paramteres :  Parameter containing:\n",
            "tensor([ 0.1697, -0.1506, -0.1494,  0.1879, -0.0321,  0.1789, -0.0843,  0.0142,\n",
            "        -0.0524, -0.0234], device='cuda:0', requires_grad=True)\n",
            "After optmizating the paramteres :  Parameter containing:\n",
            "tensor([ 0.1698, -0.1507, -0.1493,  0.1878, -0.0322,  0.1788, -0.0844,  0.0143,\n",
            "        -0.0523, -0.0235], device='cuda:0', requires_grad=True)\n"
          ],
          "name": "stdout"
        }
      ]
    },
    {
      "cell_type": "markdown",
      "metadata": {
        "id": "9gPwzn_eBIOR",
        "colab_type": "text"
      },
      "source": [
        "## Basically this is one step to do forward prop , back prop , compute loss and update parameter"
      ]
    },
    {
      "cell_type": "markdown",
      "metadata": {
        "id": "zrepaLx6DHPW",
        "colab_type": "text"
      },
      "source": [
        "## Create a training sequence to update the parameters"
      ]
    },
    {
      "cell_type": "markdown",
      "metadata": {
        "id": "gLxHyAHHKEq4",
        "colab_type": "text"
      },
      "source": [
        "### Training function ( generate model base on training set)"
      ]
    },
    {
      "cell_type": "code",
      "metadata": {
        "id": "iAg8GuQYKDk2",
        "colab_type": "code",
        "colab": {}
      },
      "source": [
        "def train(epoch):\n",
        "  \n",
        "  # set the network into training mode. No effect here since dropout / batch norm etc. is not used\n",
        "  net.train()\n",
        "  \n",
        "  for batch_idx, (data, target) in enumerate(train_loader):\n",
        "    \n",
        "    # move the data to cuda\n",
        "    data_cuda = data.to(device)\n",
        "    target_cuda = target.to(device)\n",
        "    \n",
        "    # Clear the autograd\n",
        "    optimizer.zero_grad()\n",
        "    \n",
        "    # forward pass\n",
        "    output = net(data_cuda)\n",
        "    \n",
        "    # Cost function\n",
        "    loss = F.cross_entropy(output, target_cuda)\n",
        "    \n",
        "    # back prop\n",
        "    loss.backward()\n",
        "    \n",
        "    # optimise\n",
        "    optimizer.step()\n",
        "    \n",
        "    # for each batch of the data\n",
        "    if batch_idx % 1000 == 0:\n",
        "      print('Train Epoch: {} [{}/{} ({:.0f}%)]\\tLoss: {:.6f}'.format(\n",
        "        epoch, # number of loop through entrie training set\n",
        "        batch_idx * len(data_cuda), # how many data has been processed\n",
        "        len(train_loader.dataset), # total number of data in entrie training set\n",
        "        100. * batch_idx / len(train_loader), # percentage completed\n",
        "        loss.item())) # Value of loss fucntion\n",
        "      \n",
        "      # torch.Tensor.item() return the value inside the Tensor object\n",
        "      "
      ],
      "execution_count": 0,
      "outputs": []
    },
    {
      "cell_type": "code",
      "metadata": {
        "id": "IdsKlfYYtNWO",
        "colab_type": "code",
        "outputId": "7a42791b-f880-47db-bca6-71c0593d40ee",
        "colab": {
          "base_uri": "https://localhost:8080/",
          "height": 374
        }
      },
      "source": [
        "for epoch in range(10):\n",
        "  train(epoch)\n",
        "print(\"Finished training!\")"
      ],
      "execution_count": 24,
      "outputs": [
        {
          "output_type": "stream",
          "text": [
            "Train Epoch: 0 [0/60000 (0%)]\tLoss: 2.301251\n",
            "Train Epoch: 0 [32000/60000 (53%)]\tLoss: 1.186038\n",
            "Train Epoch: 1 [0/60000 (0%)]\tLoss: 0.541502\n",
            "Train Epoch: 1 [32000/60000 (53%)]\tLoss: 0.652775\n",
            "Train Epoch: 2 [0/60000 (0%)]\tLoss: 0.204977\n",
            "Train Epoch: 2 [32000/60000 (53%)]\tLoss: 0.706145\n",
            "Train Epoch: 3 [0/60000 (0%)]\tLoss: 0.423922\n",
            "Train Epoch: 3 [32000/60000 (53%)]\tLoss: 0.295907\n",
            "Train Epoch: 4 [0/60000 (0%)]\tLoss: 0.247410\n",
            "Train Epoch: 4 [32000/60000 (53%)]\tLoss: 0.148036\n",
            "Train Epoch: 5 [0/60000 (0%)]\tLoss: 0.383168\n",
            "Train Epoch: 5 [32000/60000 (53%)]\tLoss: 0.196053\n",
            "Train Epoch: 6 [0/60000 (0%)]\tLoss: 0.472973\n",
            "Train Epoch: 6 [32000/60000 (53%)]\tLoss: 0.093193\n",
            "Train Epoch: 7 [0/60000 (0%)]\tLoss: 0.364222\n",
            "Train Epoch: 7 [32000/60000 (53%)]\tLoss: 0.201038\n",
            "Train Epoch: 8 [0/60000 (0%)]\tLoss: 0.262786\n",
            "Train Epoch: 8 [32000/60000 (53%)]\tLoss: 0.359910\n",
            "Train Epoch: 9 [0/60000 (0%)]\tLoss: 0.275519\n",
            "Train Epoch: 9 [32000/60000 (53%)]\tLoss: 0.324108\n",
            "Finished training!\n"
          ],
          "name": "stdout"
        }
      ]
    },
    {
      "cell_type": "markdown",
      "metadata": {
        "id": "QC5zLx_Dt51Z",
        "colab_type": "text"
      },
      "source": [
        "### Testing fucntion ( Evaulate model base on testing set )"
      ]
    },
    {
      "cell_type": "code",
      "metadata": {
        "id": "cg5Jj2OAt4tq",
        "colab_type": "code",
        "colab": {}
      },
      "source": [
        "def test():\n",
        "  \n",
        "  # set the model in evaulation mode\n",
        "  net.eval()\n",
        "  \n",
        "  test_loss = 0\n",
        "  correct = 0\n",
        "  \n",
        "  # disable autograd\n",
        "  with torch.no_grad():\n",
        "    for data, target in test_loader:\n",
        "      \n",
        "      data_cuda = data.cuda()\n",
        "      target_cuda = target.cuda()\n",
        "      \n",
        "      output = net(data_cuda)\n",
        "      #print(output)\n",
        "      test_loss += F.cross_entropy(output, target_cuda).item()\n",
        "      #print(test_loss)\n",
        "      \n",
        "      # Transform the output prediction to the array indices\n",
        "      pred = output.data.max(1, keepdim=True)[1].to(\"cpu\")\n",
        "      \n",
        "      # compare the target with prediction\n",
        "      # view the target as shape of pred\n",
        "      correct += pred.eq(target.data.view_as(pred)).sum()\n",
        "\n",
        "  # average loss\n",
        "  test_loss /= len(test_loader.dataset)\n",
        "  print('\\nTest set: Avg. loss: {:.4f}, Accuracy: {}/{} ({:.0f}%)\\n'.format(\n",
        "    test_loss, \n",
        "    correct, \n",
        "    len(test_loader.dataset),\n",
        "    100. * correct / len(test_loader.dataset)))"
      ],
      "execution_count": 0,
      "outputs": []
    },
    {
      "cell_type": "code",
      "metadata": {
        "id": "paiaqpYbNbm_",
        "colab_type": "code",
        "colab": {}
      },
      "source": [
        "# create the model path and file\n",
        "# prevent permission error\n",
        "#!mkdir /results\n",
        "#!touch /results/model.pth"
      ],
      "execution_count": 0,
      "outputs": []
    },
    {
      "cell_type": "markdown",
      "metadata": {
        "id": "3ivDcIRViYm-",
        "colab_type": "text"
      },
      "source": [
        "## Test the performance on training set"
      ]
    },
    {
      "cell_type": "code",
      "metadata": {
        "id": "eBqBAh7hNYSn",
        "colab_type": "code",
        "colab": {
          "base_uri": "https://localhost:8080/",
          "height": 68
        },
        "outputId": "50d00ec1-0afb-4de0-aa5f-52067a848d8e"
      },
      "source": [
        "test()"
      ],
      "execution_count": 30,
      "outputs": [
        {
          "output_type": "stream",
          "text": [
            "\n",
            "Test set: Avg. loss: 0.0026, Accuracy: 9740/10000 (97%)\n",
            "\n"
          ],
          "name": "stdout"
        }
      ]
    },
    {
      "cell_type": "markdown",
      "metadata": {
        "id": "TXjJqyv7Yr8I",
        "colab_type": "text"
      },
      "source": [
        "## Input Sample"
      ]
    },
    {
      "cell_type": "code",
      "metadata": {
        "id": "-KEI5bBaYwXh",
        "colab_type": "code",
        "colab": {
          "base_uri": "https://localhost:8080/",
          "height": 281
        },
        "outputId": "d73cf02d-49ca-48ef-c61d-6b522a036aeb"
      },
      "source": [
        "sample_idx = 20\n",
        "\n",
        "batch_idx, (training_sample , sample_labels) = next(testing_iter)\n",
        "\n",
        "images=[]\n",
        "\n",
        "for i in range(0,5):\n",
        "  images.append(training_sample[i,0,:])\n",
        "\n",
        "plt.figure(figsize=(20,10))\n",
        "columns = 5\n",
        "for i, image in enumerate(images):\n",
        "    plt.subplot(len(images) / columns + 1, columns, i + 1)\n",
        "    plt.imshow(image)\n",
        "    \n",
        "print(\"Their corresponding lables: \", sample_labels[0:5])"
      ],
      "execution_count": 31,
      "outputs": [
        {
          "output_type": "stream",
          "text": [
            "Their corresponding lables:  tensor([1, 7, 6, 9, 6])\n"
          ],
          "name": "stdout"
        },
        {
          "output_type": "display_data",
          "data": {
            "image/png": "[encoded data removed]",
            "text/plain": [
              "<Figure size 1440x720 with 5 Axes>"
            ]
          },
          "metadata": {
            "tags": []
          }
        }
      ]
    },
    {
      "cell_type": "markdown",
      "metadata": {
        "id": "KmeQ4WT4cB8f",
        "colab_type": "text"
      },
      "source": [
        "## Fit into the training "
      ]
    },
    {
      "cell_type": "code",
      "metadata": {
        "id": "EPr3bvDxgX-W",
        "colab_type": "code",
        "colab": {
          "base_uri": "https://localhost:8080/",
          "height": 221
        },
        "outputId": "2cc81bc7-6150-48a5-c0fa-22978fe5dcaa"
      },
      "source": [
        "with torch.no_grad():\n",
        "  net.eval()\n",
        "  output_test = net(training_sample[0:5,:].to(device))\n",
        "print(\"The output of the network : \\n\",output_test)\n",
        "# notice that it is not the probability"
      ],
      "execution_count": 56,
      "outputs": [
        {
          "output_type": "stream",
          "text": [
            "The output of the network : \n",
            " tensor([[-1.0879e+01, -1.2832e-01, -6.6649e+00, -3.5244e+00, -6.5254e+00,\n",
            "         -4.9165e+00, -1.1192e+01, -5.1919e+00, -3.0185e+00, -3.6336e+00],\n",
            "        [-1.6047e+01, -4.6774e+00, -7.0907e+00, -7.7705e+00, -1.0509e+01,\n",
            "         -1.6383e+01, -2.4725e+01, -1.1431e-02, -7.4867e+00, -8.4224e+00],\n",
            "        [-5.1630e+00, -1.5784e+01, -9.6379e+00, -1.6063e+01, -1.4025e+01,\n",
            "         -5.7636e+00, -9.1209e-03, -2.1107e+01, -8.8117e+00, -1.7671e+01],\n",
            "        [-2.0641e+01, -2.5120e+01, -1.5398e+01, -1.3900e+01, -7.9307e+00,\n",
            "         -1.6678e+01, -2.6084e+01, -8.9659e+00, -1.1539e+01, -4.9782e-04],\n",
            "        [-7.9348e+00, -1.0765e+01, -8.3419e+00, -1.4532e+01, -8.5141e+00,\n",
            "         -8.2057e+00, -1.2674e-03, -1.7178e+01, -8.6500e+00, -1.5835e+01]],\n",
            "       device='cuda:0')\n"
          ],
          "name": "stdout"
        }
      ]
    },
    {
      "cell_type": "code",
      "metadata": {
        "id": "s2cW6YGRyXXn",
        "colab_type": "code",
        "colab": {
          "base_uri": "https://localhost:8080/",
          "height": 34
        },
        "outputId": "b6bd1314-9cdb-4d65-cde9-7ece27b70cb0"
      },
      "source": [
        "print(training_sample.shape)"
      ],
      "execution_count": 59,
      "outputs": [
        {
          "output_type": "stream",
          "text": [
            "torch.Size([32, 1, 28, 28])\n"
          ],
          "name": "stdout"
        }
      ]
    },
    {
      "cell_type": "code",
      "metadata": {
        "id": "nMP46mZ7i-GA",
        "colab_type": "code",
        "colab": {
          "base_uri": "https://localhost:8080/",
          "height": 51
        },
        "outputId": "c25e0905-0c27-4650-f46e-c9b47acb0721"
      },
      "source": [
        "# Report the indices with maximum score\n",
        "\n",
        "prediction = output_test.max(dim = -1)\n",
        "print(\"The prediction from the network : \")\n",
        "print(prediction[1].to(\"cpu\").numpy())"
      ],
      "execution_count": 48,
      "outputs": [
        {
          "output_type": "stream",
          "text": [
            "The prediction from the network : \n",
            "[1 7 6 9 6]\n"
          ],
          "name": "stdout"
        }
      ]
    },
    {
      "cell_type": "markdown",
      "metadata": {
        "id": "brk_EASoocgC",
        "colab_type": "text"
      },
      "source": [
        "# Try upload your own image and test the ConvNet\n",
        "\n",
        "### you can create the image in the follwing websit: \n",
        "\n",
        "http://kleki.com\n",
        "\n",
        "Please use a larger brush or the storke will disappear after resize. (around 75)\n",
        "\n",
        "The follwing code will automatically resize the image and fed it into the network for prediction"
      ]
    },
    {
      "cell_type": "code",
      "metadata": {
        "id": "RaVQhzy1plej",
        "colab_type": "code",
        "colab": {
          "resources": {
            "http://localhost:8080/nbextensions/google.colab/files.js": {
              "data": "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",
              "ok": true,
              "headers": [
                [
                  "content-type",
                  "application/javascript"
                ]
              ],
              "status": 200,
              "status_text": ""
            }
          },
          "base_uri": "https://localhost:8080/",
          "height": 88
        },
        "outputId": "b68f4b26-bd1b-4bf4-eb52-db50209e32e2"
      },
      "source": [
        "from google.colab import files\n",
        "\n",
        "uploaded = files.upload()\n",
        "\n",
        "for fn in uploaded.keys():\n",
        "  print('User uploaded file \"{name}\" with length {length} bytes'.format(\n",
        "      name=fn, length=len(uploaded[fn])))"
      ],
      "execution_count": 49,
      "outputs": [
        {
          "output_type": "display_data",
          "data": {
            "text/html": [
              "\n",
              "     <input type=\"file\" id=\"files-f82e50de-3e16-4efb-a75b-26849ccd9b74\" name=\"files[]\" multiple disabled />\n",
              "     <output id=\"result-f82e50de-3e16-4efb-a75b-26849ccd9b74\">\n",
              "      Upload widget is only available when the cell has been executed in the\n",
              "      current browser session. Please rerun this cell to enable.\n",
              "      </output>\n",
              "      <script src=\"/nbextensions/google.colab/files.js\"></script> "
            ],
            "text/plain": [
              "<IPython.core.display.HTML object>"
            ]
          },
          "metadata": {
            "tags": []
          }
        },
        {
          "output_type": "stream",
          "text": [
            "Saving 2019_08_05_Kleki.png to 2019_08_05_Kleki.png\n",
            "User uploaded file \"2019_08_05_Kleki.png\" with length 38063 bytes\n"
          ],
          "name": "stdout"
        }
      ]
    },
    {
      "cell_type": "code",
      "metadata": {
        "id": "pmepBam3m6x5",
        "colab_type": "code",
        "colab": {
          "base_uri": "https://localhost:8080/",
          "height": 354
        },
        "outputId": "c920e93f-f4c1-4e95-b1f8-9870e8115f40"
      },
      "source": [
        "import cv2\n",
        "\n",
        "def inverse_color(image):\n",
        "\n",
        "    height,width = image.shape\n",
        "    img2 = image.copy()\n",
        "\n",
        "    for i in range(height):\n",
        "        for j in range(width):\n",
        "            img2[i,j] = (255-image[i,j]) \n",
        "    return img2\n",
        "\n",
        "img = cv2.imread(fn)\n",
        "resized_img = cv2.resize(img, (28, 28))\n",
        "gray = cv2.cvtColor(resized_img, cv2.COLOR_BGR2GRAY)\n",
        "gray = inverse_color(gray)\n",
        "\n",
        "normalised_img = gray / 255\n",
        "\n",
        "plt.imshow(normalised_img)\n",
        "plt.show()\n",
        "\n",
        "input_user = torch.Tensor(normalised_img)\n",
        "\n",
        "with torch.no_grad():\n",
        "  net.eval()\n",
        "  predict_user = net(input_user.to(device).view(1,1,28,28))\n",
        "print(\"The output of the network : \\n\",predict_user)\n",
        "\n",
        "prediction = predict_user.max(dim = -1)\n",
        "print(\"The prediction from the network : \")\n",
        "print(prediction[1].to(\"cpu\").numpy())"
      ],
      "execution_count": 65,
      "outputs": [
        {
          "output_type": "display_data",
          "data": {
            "image/png": "[encoded data removed]",
            "text/plain": [
              "<Figure size 432x288 with 1 Axes>"
            ]
          },
          "metadata": {
            "tags": []
          }
        },
        {
          "output_type": "stream",
          "text": [
            "The output of the network : \n",
            " tensor([[-7.5527, -6.6278, -5.6047, -0.7544, -2.8904, -3.3899, -8.9237, -5.8174,\n",
            "         -2.1610, -1.1502]], device='cuda:0')\n",
            "The prediction from the network : \n",
            "[3]\n"
          ],
          "name": "stdout"
        }
      ]
    }
  ]
}