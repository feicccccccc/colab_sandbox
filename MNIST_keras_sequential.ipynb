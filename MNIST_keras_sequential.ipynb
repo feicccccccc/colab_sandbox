{
  "nbformat": 4,
  "nbformat_minor": 0,
  "metadata": {
    "colab": {
      "name": "MNIST_keras_sequential.ipynb",
      "version": "0.3.2",
      "provenance": [],
      "collapsed_sections": [],
      "toc_visible": true,
      "include_colab_link": true
    },
    "kernelspec": {
      "name": "python3",
      "display_name": "Python 3"
    },
    "accelerator": "GPU"
  },
  "cells": [
    {
      "cell_type": "markdown",
      "metadata": {
        "id": "view-in-github",
        "colab_type": "text"
      },
      "source": [
        "<a href=\"https://colab.research.google.com/github/feicccccccc/colab_sandbox/blob/master/MNIST_keras_sequential.ipynb\" target=\"_parent\"><img src=\"https://colab.research.google.com/assets/colab-badge.svg\" alt=\"Open In Colab\"/></a>"
      ]
    },
    {
      "cell_type": "markdown",
      "metadata": {
        "id": "UHpf1ItFCOhC",
        "colab_type": "text"
      },
      "source": [
        "# A testing to use colab to perform MNIST training using Keras"
      ]
    },
    {
      "cell_type": "markdown",
      "metadata": {
        "id": "3voLr3S-Cd8K",
        "colab_type": "text"
      },
      "source": [
        "## First step: Import library including\n",
        "\n",
        "\n",
        "1.   Keras (deeplearning framework)\n",
        "2.   matplotlib (to plot graph)\n",
        "3.   numpy\n",
        "\n"
      ]
    },
    {
      "cell_type": "code",
      "metadata": {
        "id": "ew_MAsWOh8qw",
        "colab_type": "code",
        "colab": {}
      },
      "source": [
        "import keras\n",
        "from keras.datasets import mnist\n",
        "import matplotlib.pyplot as plt\n",
        "import numpy as np\n",
        "\n",
        "%matplotlib inline "
      ],
      "execution_count": 0,
      "outputs": []
    },
    {
      "cell_type": "markdown",
      "metadata": {
        "id": "E4zKH7HRC0Db",
        "colab_type": "text"
      },
      "source": [
        "### Get the MNIST data set from keras default dataloader"
      ]
    },
    {
      "cell_type": "code",
      "metadata": {
        "id": "u_7Iz0usibE6",
        "colab_type": "code",
        "colab": {}
      },
      "source": [
        "(x_train, y_train), (x_test, y_test) = mnist.load_data()"
      ],
      "execution_count": 0,
      "outputs": []
    },
    {
      "cell_type": "markdown",
      "metadata": {
        "id": "hDEsA5wDC8-0",
        "colab_type": "text"
      },
      "source": [
        "### Show part of the data set in term of pixel map and there output y"
      ]
    },
    {
      "cell_type": "code",
      "metadata": {
        "id": "LWmA1MKPqVnA",
        "colab_type": "code",
        "outputId": "28977453-1a90-4ebb-bfe4-46f7a376c90c",
        "colab": {
          "base_uri": "https://localhost:8080/",
          "height": 264
        }
      },
      "source": [
        "images=[x_train[0,:],x_train[1,:],x_train[2,:],x_train[3,:],x_train[4,:]]\n",
        "\n",
        "plt.figure(figsize=(20,10))\n",
        "columns = 5\n",
        "for i, image in enumerate(images):\n",
        "    plt.subplot(len(images) / columns + 1, columns, i + 1)\n",
        "    plt.imshow(image)"
      ],
      "execution_count": 88,
      "outputs": [
        {
          "output_type": "display_data",
          "data": {
            "image/png": "[encoded data removed]",
            "text/plain": [
              "<Figure size 1440x720 with 5 Axes>"
            ]
          },
          "metadata": {
            "tags": []
          }
        }
      ]
    },
    {
      "cell_type": "code",
      "metadata": {
        "id": "gdzYmKfSDl3z",
        "colab_type": "code",
        "outputId": "b8fdb298-d624-43df-80d5-c90b52b82737",
        "colab": {
          "base_uri": "https://localhost:8080/",
          "height": 102
        }
      },
      "source": [
        "print(\"First label  = \", y_train[0])\n",
        "print(\"Second Label = \", y_train[1])\n",
        "print(\"Third label  = \", y_train[2])\n",
        "print(\"Forth label  = \", y_train[3])\n",
        "print(\"Fifth label  = \", y_train[4])"
      ],
      "execution_count": 89,
      "outputs": [
        {
          "output_type": "stream",
          "text": [
            "First label  =  5\n",
            "Second Label =  0\n",
            "Third label  =  4\n",
            "Forth label  =  1\n",
            "Fifth label  =  9\n"
          ],
          "name": "stdout"
        }
      ]
    },
    {
      "cell_type": "markdown",
      "metadata": {
        "id": "Er43rsG4B07p",
        "colab_type": "text"
      },
      "source": [
        "### Data pre processing\n",
        "### Normalise the raw data"
      ]
    },
    {
      "cell_type": "code",
      "metadata": {
        "id": "gNV78vDyB_cL",
        "colab_type": "code",
        "outputId": "6ec4d095-4648-4f3e-a176-f1080c71ee9b",
        "colab": {
          "base_uri": "https://localhost:8080/",
          "height": 51
        }
      },
      "source": [
        "print(\"Original data at x some pixel = \", x_train[0,7])"
      ],
      "execution_count": 90,
      "outputs": [
        {
          "output_type": "stream",
          "text": [
            "Original data at x some pixel =  [  0   0   0   0   0   0   0  49 238 253 253 253 253 253 253 253 253 251\n",
            "  93  82  82  56  39   0   0   0   0   0]\n"
          ],
          "name": "stdout"
        }
      ]
    },
    {
      "cell_type": "code",
      "metadata": {
        "id": "pUKI8yKhDR9Z",
        "colab_type": "code",
        "colab": {}
      },
      "source": [
        "x_train_reshaped = x_train / 255\n",
        "x_test_reshaped = x_test / 255\n",
        "\n",
        "x_train_reshaped = x_train.reshape(x_train.shape[0], 28, 28, 1)\n",
        "x_test_reshaped = x_test.reshape(x_test.shape[0], 28, 28, 1)"
      ],
      "execution_count": 0,
      "outputs": []
    },
    {
      "cell_type": "code",
      "metadata": {
        "id": "ycFZtqgxE0Eh",
        "colab_type": "code",
        "colab": {
          "base_uri": "https://localhost:8080/",
          "height": 493
        },
        "outputId": "61c24de6-5648-4190-8e4e-ac7b3671ed6d"
      },
      "source": [
        "print(\"New data at x some pixel = \", x_train_reshaped[0,7])"
      ],
      "execution_count": 92,
      "outputs": [
        {
          "output_type": "stream",
          "text": [
            "New data at x some pixel =  [[  0]\n",
            " [  0]\n",
            " [  0]\n",
            " [  0]\n",
            " [  0]\n",
            " [  0]\n",
            " [  0]\n",
            " [ 49]\n",
            " [238]\n",
            " [253]\n",
            " [253]\n",
            " [253]\n",
            " [253]\n",
            " [253]\n",
            " [253]\n",
            " [253]\n",
            " [253]\n",
            " [251]\n",
            " [ 93]\n",
            " [ 82]\n",
            " [ 82]\n",
            " [ 56]\n",
            " [ 39]\n",
            " [  0]\n",
            " [  0]\n",
            " [  0]\n",
            " [  0]\n",
            " [  0]]\n"
          ],
          "name": "stdout"
        }
      ]
    },
    {
      "cell_type": "markdown",
      "metadata": {
        "id": "j0AMYG5bGQrJ",
        "colab_type": "text"
      },
      "source": [
        "### Transform the output to one-hot data encoding"
      ]
    },
    {
      "cell_type": "code",
      "metadata": {
        "id": "ShXgbrqvGZLb",
        "colab_type": "code",
        "colab": {}
      },
      "source": [
        "from keras.utils import to_categorical\n",
        "\n",
        "y_train_reshaped = to_categorical(y_train, 10)\n",
        "y_test_reshaped = to_categorical(y_test, 10)"
      ],
      "execution_count": 0,
      "outputs": []
    },
    {
      "cell_type": "code",
      "metadata": {
        "id": "YFNlqXFcGhFL",
        "colab_type": "code",
        "outputId": "96a79f27-0c47-484e-9e78-af745090f1a2",
        "colab": {
          "base_uri": "https://localhost:8080/",
          "height": 34
        }
      },
      "source": [
        "print(\"one hot encoding for the first training data = \", y_train_reshaped[0])"
      ],
      "execution_count": 94,
      "outputs": [
        {
          "output_type": "stream",
          "text": [
            "one hot encoding for the first training data =  [0. 0. 0. 0. 0. 1. 0. 0. 0. 0.]\n"
          ],
          "name": "stdout"
        }
      ]
    },
    {
      "cell_type": "markdown",
      "metadata": {
        "id": "61r_KpSWGu41",
        "colab_type": "text"
      },
      "source": [
        "## Create the model using Keras API"
      ]
    },
    {
      "cell_type": "markdown",
      "metadata": {
        "id": "7DhJqoArILZ3",
        "colab_type": "text"
      },
      "source": [
        "### Get the input and output dimension from the input data"
      ]
    },
    {
      "cell_type": "code",
      "metadata": {
        "id": "rM9lopq3IJyt",
        "colab_type": "code",
        "outputId": "66359b4e-2aa5-4e3f-dd73-3def3bca6f6f",
        "colab": {
          "base_uri": "https://localhost:8080/",
          "height": 51
        }
      },
      "source": [
        "print(\"shape of the training sample = \", x_train_reshaped.shape)\n",
        "print(\"shape of the output lable = \", y_train_reshaped.shape)\n",
        "\n",
        "m , n_w, n_h, n_c = x_train_reshaped.shape\n",
        "_ , n_y = y_train_reshaped.shape\n"
      ],
      "execution_count": 95,
      "outputs": [
        {
          "output_type": "stream",
          "text": [
            "shape of the training sample =  (60000, 28, 28, 1)\n",
            "shape of the output lable =  (60000, 10)\n"
          ],
          "name": "stdout"
        }
      ]
    },
    {
      "cell_type": "markdown",
      "metadata": {
        "id": "u65enHWeITrj",
        "colab_type": "text"
      },
      "source": [
        "### Create model (computational graph)"
      ]
    },
    {
      "cell_type": "code",
      "metadata": {
        "id": "lK00YtwrGyva",
        "colab_type": "code",
        "colab": {}
      },
      "source": [
        "from keras.models import Sequential\n",
        "from keras.layers import Dense, Dropout, Flatten\n",
        "from keras.layers import Conv2D, MaxPool2D\n",
        "from keras.optimizers import SGD\n",
        "\n",
        "model = Sequential()\n",
        "\n",
        "model.add(Conv2D(filters=32, kernel_size=(5,5), activation='relu', input_shape=(n_w,n_h,n_c)))\n",
        "model.add(Conv2D(filters=32, kernel_size=(5,5), activation='relu'))\n",
        "model.add(MaxPool2D(pool_size=(2, 2)))\n",
        "model.add(Dropout(rate=0.25))\n",
        "model.add(Conv2D(filters=64, kernel_size=(3, 3), activation='relu'))\n",
        "model.add(Conv2D(filters=64, kernel_size=(3, 3), activation='relu'))\n",
        "model.add(MaxPool2D(pool_size=(2, 2)))\n",
        "model.add(Dropout(rate=0.25))\n",
        "model.add(Flatten())\n",
        "model.add(Dense(256, activation='relu'))\n",
        "model.add(Dropout(rate=0.5))\n",
        "model.add(Dense(10, activation='softmax'))"
      ],
      "execution_count": 0,
      "outputs": []
    },
    {
      "cell_type": "markdown",
      "metadata": {
        "id": "KX9eBYTLPALz",
        "colab_type": "text"
      },
      "source": [
        "## Compile the model and define the loss fuunction and gradient descent method."
      ]
    },
    {
      "cell_type": "code",
      "metadata": {
        "id": "dExw74mFNHIN",
        "colab_type": "code",
        "colab": {}
      },
      "source": [
        "model.compile(\n",
        "    loss='categorical_crossentropy', \n",
        "    optimizer='adam', \n",
        "    metrics=['accuracy']\n",
        ")"
      ],
      "execution_count": 0,
      "outputs": []
    },
    {
      "cell_type": "markdown",
      "metadata": {
        "id": "nGl3MMX-STUZ",
        "colab_type": "text"
      },
      "source": [
        "### Summary of the model"
      ]
    },
    {
      "cell_type": "code",
      "metadata": {
        "id": "9FfJguXJSXxl",
        "colab_type": "code",
        "colab": {
          "base_uri": "https://localhost:8080/",
          "height": 561
        },
        "outputId": "bb3ba2d2-f6e9-44b7-ef94-3164ce6932dd"
      },
      "source": [
        "print(model.summary())"
      ],
      "execution_count": 98,
      "outputs": [
        {
          "output_type": "stream",
          "text": [
            "_________________________________________________________________\n",
            "Layer (type)                 Output Shape              Param #   \n",
            "=================================================================\n",
            "conv2d_13 (Conv2D)           (None, 24, 24, 32)        832       \n",
            "_________________________________________________________________\n",
            "conv2d_14 (Conv2D)           (None, 20, 20, 32)        25632     \n",
            "_________________________________________________________________\n",
            "max_pooling2d_7 (MaxPooling2 (None, 10, 10, 32)        0         \n",
            "_________________________________________________________________\n",
            "dropout_10 (Dropout)         (None, 10, 10, 32)        0         \n",
            "_________________________________________________________________\n",
            "conv2d_15 (Conv2D)           (None, 8, 8, 64)          18496     \n",
            "_________________________________________________________________\n",
            "conv2d_16 (Conv2D)           (None, 6, 6, 64)          36928     \n",
            "_________________________________________________________________\n",
            "max_pooling2d_8 (MaxPooling2 (None, 3, 3, 64)          0         \n",
            "_________________________________________________________________\n",
            "dropout_11 (Dropout)         (None, 3, 3, 64)          0         \n",
            "_________________________________________________________________\n",
            "flatten_4 (Flatten)          (None, 576)               0         \n",
            "_________________________________________________________________\n",
            "dense_7 (Dense)              (None, 256)               147712    \n",
            "_________________________________________________________________\n",
            "dropout_12 (Dropout)         (None, 256)               0         \n",
            "_________________________________________________________________\n",
            "dense_8 (Dense)              (None, 10)                2570      \n",
            "=================================================================\n",
            "Total params: 232,170\n",
            "Trainable params: 232,170\n",
            "Non-trainable params: 0\n",
            "_________________________________________________________________\n",
            "None\n"
          ],
          "name": "stdout"
        }
      ]
    },
    {
      "cell_type": "markdown",
      "metadata": {
        "id": "ssrYJq9fScZB",
        "colab_type": "text"
      },
      "source": [
        "### computational graph of the model"
      ]
    },
    {
      "cell_type": "code",
      "metadata": {
        "id": "BuuAnZnbSgju",
        "colab_type": "code",
        "colab": {
          "base_uri": "https://localhost:8080/",
          "height": 1000
        },
        "outputId": "83dbbf8f-c0bf-49ef-88ce-dd85b730edf7"
      },
      "source": [
        "from keras.utils.vis_utils import plot_model\n",
        "from IPython.display import Image\n",
        "\n",
        "plot_model(model, to_file='model.png')\n",
        "Image(filename='model.png') "
      ],
      "execution_count": 99,
      "outputs": [
        {
          "output_type": "execute_result",
          "data": {
            "image/png": "[encoded data removed]",
            "text/plain": [
              "<IPython.core.display.Image object>"
            ]
          },
          "metadata": {
            "tags": []
          },
          "execution_count": 99
        }
      ]
    },
    {
      "cell_type": "markdown",
      "metadata": {
        "id": "TU5s0d4PZuOz",
        "colab_type": "text"
      },
      "source": [
        "# Train the model"
      ]
    },
    {
      "cell_type": "code",
      "metadata": {
        "id": "haV4q3NpaanC",
        "colab_type": "code",
        "colab": {
          "base_uri": "https://localhost:8080/",
          "height": 374
        },
        "outputId": "fe6aaba4-d237-4408-ceff-57c0f6367917"
      },
      "source": [
        "model.fit(x_train_reshaped, y_train_reshaped, epochs=10, batch_size=512)"
      ],
      "execution_count": 102,
      "outputs": [
        {
          "output_type": "stream",
          "text": [
            "Epoch 1/10\n",
            "60000/60000 [==============================] - 2s 42us/step - loss: 0.0195 - acc: 0.9939\n",
            "Epoch 2/10\n",
            "60000/60000 [==============================] - 2s 41us/step - loss: 0.0192 - acc: 0.9941\n",
            "Epoch 3/10\n",
            "60000/60000 [==============================] - 2s 42us/step - loss: 0.0162 - acc: 0.9948\n",
            "Epoch 4/10\n",
            "60000/60000 [==============================] - 2s 41us/step - loss: 0.0177 - acc: 0.9946\n",
            "Epoch 5/10\n",
            "60000/60000 [==============================] - 2s 41us/step - loss: 0.0178 - acc: 0.9947\n",
            "Epoch 6/10\n",
            "60000/60000 [==============================] - 2s 41us/step - loss: 0.0165 - acc: 0.9950\n",
            "Epoch 7/10\n",
            "60000/60000 [==============================] - 3s 42us/step - loss: 0.0152 - acc: 0.9950\n",
            "Epoch 8/10\n",
            "60000/60000 [==============================] - 2s 41us/step - loss: 0.0154 - acc: 0.9948\n",
            "Epoch 9/10\n",
            "60000/60000 [==============================] - 2s 42us/step - loss: 0.0151 - acc: 0.9949\n",
            "Epoch 10/10\n",
            "60000/60000 [==============================] - 2s 42us/step - loss: 0.0150 - acc: 0.9950\n"
          ],
          "name": "stdout"
        },
        {
          "output_type": "execute_result",
          "data": {
            "text/plain": [
              "<keras.callbacks.History at 0x7f10e003a828>"
            ]
          },
          "metadata": {
            "tags": []
          },
          "execution_count": 102
        }
      ]
    },
    {
      "cell_type": "markdown",
      "metadata": {
        "id": "JmY1uNr3dPbk",
        "colab_type": "text"
      },
      "source": [
        "## Test model performance"
      ]
    },
    {
      "cell_type": "code",
      "metadata": {
        "id": "4OABxwiEdoAW",
        "colab_type": "code",
        "colab": {
          "base_uri": "https://localhost:8080/",
          "height": 51
        },
        "outputId": "15213f78-35c6-4ce9-a6c1-cdcc1010fb94"
      },
      "source": [
        "score = model.evaluate(x_test_reshaped, y_test_reshaped, batch_size=128)\n",
        "print(\"loss, mertric = \", score)"
      ],
      "execution_count": 103,
      "outputs": [
        {
          "output_type": "stream",
          "text": [
            "10000/10000 [==============================] - 0s 42us/step\n",
            "loss, mertric =  [0.022538089055793534, 0.9945]\n"
          ],
          "name": "stdout"
        }
      ]
    },
    {
      "cell_type": "markdown",
      "metadata": {
        "id": "5ZfeBgXreIU8",
        "colab_type": "text"
      },
      "source": [
        "## input Example:"
      ]
    },
    {
      "cell_type": "code",
      "metadata": {
        "id": "DXag2ZmPeMg2",
        "colab_type": "code",
        "colab": {
          "base_uri": "https://localhost:8080/",
          "height": 320
        },
        "outputId": "e9349290-db9f-4598-f14b-b593e50d911c"
      },
      "source": [
        "sample_idx = 20\n",
        "\n",
        "image= x_test[sample_idx,:]\n",
        "\n",
        "plt.imshow(image)\n",
        "\n",
        "foo = np.expand_dims(x_test_reshaped[sample_idx,:], axis=0)\n",
        "\n",
        "predict = model.predict(foo)\n",
        "\n",
        "print(\"Model output = \", predict)\n",
        "\n",
        "result = np.where(predict == np.amax(predict))\n",
        "\n",
        "print(\"The input character = \", result[1])"
      ],
      "execution_count": 106,
      "outputs": [
        {
          "output_type": "stream",
          "text": [
            "Model output =  [[8.7515449e-16 1.8292554e-09 9.1277905e-12 2.2903231e-11 5.9534766e-04\n",
            "  1.9037290e-09 3.8543664e-18 1.1628432e-05 1.9886825e-08 9.9939299e-01]]\n",
            "The input character =  [9]\n"
          ],
          "name": "stdout"
        },
        {
          "output_type": "display_data",
          "data": {
            "image/png": "[encoded data removed]",
            "text/plain": [
              "<Figure size 432x288 with 1 Axes>"
            ]
          },
          "metadata": {
            "tags": []
          }
        }
      ]
    },
    {
      "cell_type": "code",
      "metadata": {
        "id": "ABwfG8oxrwxY",
        "colab_type": "code",
        "colab": {}
      },
      "source": [
        ""
      ],
      "execution_count": 0,
      "outputs": []
    }
  ]
}